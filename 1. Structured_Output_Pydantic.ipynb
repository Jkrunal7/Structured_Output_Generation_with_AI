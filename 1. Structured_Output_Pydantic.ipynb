{
 "cells": [
  {
   "cell_type": "code",
   "execution_count": 1,
   "metadata": {},
   "outputs": [],
   "source": [
    "# Warning control\n",
    "import warnings\n",
    "warnings.filterwarnings('ignore')"
   ]
  },
  {
   "cell_type": "markdown",
   "metadata": {},
   "source": [
    "### Loading Model:"
   ]
  },
  {
   "cell_type": "code",
   "execution_count": 2,
   "metadata": {},
   "outputs": [],
   "source": [
    "import requests\n",
    "import os\n",
    "from dotenv import load_dotenv, find_dotenv\n",
    "load_dotenv()\n",
    "groq_api_key=os.environ['GROQ_API_KEY']\n",
    "if not groq_api_key:\n",
    "    raise ValueError(\"GROQ_API_KEY not found in environment variables\")\n",
    "\n",
    "url = \"https://api.groq.com/openai/v1/models\"\n",
    "headers = {\n",
    "    \"Authorization\": f\"Bearer {groq_api_key}\",\n",
    "    \"Content-Type\": \"application/json\"\n",
    "}"
   ]
  },
  {
   "cell_type": "markdown",
   "metadata": {},
   "source": [
    "### Define structure with Pydantic:"
   ]
  },
  {
   "cell_type": "code",
   "execution_count": 3,
   "metadata": {},
   "outputs": [],
   "source": [
    "# The user class from the slides\n",
    "from pydantic import BaseModel\n",
    "from typing import List, Optional\n",
    "import json\n",
    "\n",
    "class User(BaseModel):\n",
    "    name: str\n",
    "    age: int\n",
    "    email: Optional[str] = None"
   ]
  },
  {
   "cell_type": "code",
   "execution_count": 4,
   "metadata": {},
   "outputs": [],
   "source": [
    "from groq import Groq\n",
    "client = Groq()\n",
    "chat_completion = client.chat.completions.create(\n",
    "    messages=[\n",
    "        {\"role\": \"system\", \"content\": f\"You are a helpful assistant. Return user data in JSON using this schema:\\n{User.model_json_schema()}\"},\n",
    "        {\"role\": \"user\", \"content\": \"Make up a user.\"}\n",
    "    ],\n",
    "    model=\"meta-llama/llama-4-scout-17b-16e-instruct\",\n",
    "    response_format={\"type\": \"json_object\"},\n",
    ")"
   ]
  },
  {
   "cell_type": "code",
   "execution_count": 5,
   "metadata": {},
   "outputs": [
    {
     "data": {
      "text/plain": [
       "'{\\n    \"name\": \"Emily\",\\n  \"age\": 30,\\n  \"email\": \"emily@example.com\"\\n}'"
      ]
     },
     "execution_count": 5,
     "metadata": {},
     "output_type": "execute_result"
    }
   ],
   "source": [
    "user = chat_completion.choices[0].message.content\n",
    "user\n"
   ]
  },
  {
   "cell_type": "code",
   "execution_count": 6,
   "metadata": {},
   "outputs": [],
   "source": [
    "parsed_json = json.loads(chat_completion.choices[0].message.content)\n",
    "jsonuser = User(**parsed_json)\n"
   ]
  },
  {
   "cell_type": "code",
   "execution_count": 7,
   "metadata": {},
   "outputs": [
    {
     "name": "stdout",
     "output_type": "stream",
     "text": [
      "name='Emily' age=30 email='emily@example.com'\n"
     ]
    }
   ],
   "source": [
    "# Convert JSON string response into Pydantic model\n",
    "user = User.model_validate_json(chat_completion.choices[0].message.content)\n",
    "print(user)\n"
   ]
  },
  {
   "cell_type": "code",
   "execution_count": 8,
   "metadata": {},
   "outputs": [],
   "source": [
    "def parse_response(response, model):\n",
    "    return model.model_validate_json(response.choices[0].message.content)"
   ]
  },
  {
   "cell_type": "code",
   "execution_count": 9,
   "metadata": {},
   "outputs": [
    {
     "data": {
      "text/plain": [
       "User(name='Emily', age=30, email='emily@example.com')"
      ]
     },
     "execution_count": 9,
     "metadata": {},
     "output_type": "execute_result"
    }
   ],
   "source": [
    "user = parse_response(chat_completion, User)\n",
    "user"
   ]
  },
  {
   "cell_type": "markdown",
   "metadata": {},
   "source": [
    "### Social media mention to a structured output:"
   ]
  },
  {
   "cell_type": "markdown",
   "metadata": {},
   "source": [
    "* Below structure that we want to receive in the output."
   ]
  },
  {
   "cell_type": "code",
   "execution_count": 10,
   "metadata": {},
   "outputs": [],
   "source": [
    "from pydantic import BaseModel\n",
    "from enum import Enum\n",
    "from typing import List, Optional, Literal\n",
    "\n",
    "class Mention(BaseModel):\n",
    "    # The model chooses the product the mention is about,\n",
    "    # as well as the social media post's sentiment\n",
    "    product: Literal['app', 'website', 'not_applicable']\n",
    "    sentiment: Literal['positive', 'negative', 'neutral']\n",
    "\n",
    "    # Model can choose to respond to the user\n",
    "    needs_response: bool\n",
    "    response: Optional[str]\n",
    "\n",
    "    # If a support ticket needs to be opened, \n",
    "    # the model can write a description for the\n",
    "    # developers\n",
    "    support_ticket_description: Optional[str]"
   ]
  },
  {
   "cell_type": "markdown",
   "metadata": {},
   "source": [
    "* Pass some example data, below we have three mentions!"
   ]
  },
  {
   "cell_type": "code",
   "execution_count": 11,
   "metadata": {},
   "outputs": [],
   "source": [
    "# Example mentions\n",
    "mentions = [\n",
    "    # About the app\n",
    "    \"@techcorp your app is amazing! The new design is perfect\",\n",
    "    # Website is down, negative sentiment + needs a fix\n",
    "    \"@techcorp website is down again, please fix!\",\n",
    "    # Nothing to respond to\n",
    "    \"hey @techcorp you're so evil\"\n",
    "]"
   ]
  },
  {
   "cell_type": "markdown",
   "metadata": {},
   "source": [
    "* We create an analyze mention function, and take user messages that are sent to use and we construct this mention object that we just designed."
   ]
  },
  {
   "cell_type": "code",
   "execution_count": 12,
   "metadata": {},
   "outputs": [],
   "source": [
    "from groq import Groq\n",
    "client = Groq()\n",
    "def analyze_mention(\n",
    "    mention: str, \n",
    "    personality: str = \"friendly\"\n",
    ") -> Mention:\n",
    "    completion = client.chat.completions.create(\n",
    "        model=\"meta-llama/llama-4-scout-17b-16e-instruct\",\n",
    "        messages=[\n",
    "            {\"role\": \"system\", \"content\": f\"\"\"\n",
    "                Extract structured information from \n",
    "                social media mentions about our products.\n",
    "             \n",
    "                Return JSON matching this schema:\n",
    "                {Mention.model_json_schema()}\n",
    "\n",
    "                Provide\n",
    "                - The product mentioned (website, app, not applicable)\n",
    "                - The mention sentiment (positive, negative, neutral)\n",
    "                - Whether to respond (true/false). Don't respond to \n",
    "                  inflammatory messages or bait.\n",
    "                - It's okay to form appropriate response to the positive feedback or compliments.\n",
    "                - A customized response to send to the user if we need \n",
    "                  to respond.\n",
    "                - An optional support ticket description to create.\n",
    "\n",
    "                Your personality is {personality}.\n",
    "            \"\"\"},\n",
    "            {\"role\": \"user\", \"content\": mention}\n",
    "        ],\n",
    "        response_format={\"type\": \"json_object\"},\n",
    "    )\n",
    "    return completion.choices[0].message.content"
   ]
  },
  {
   "cell_type": "markdown",
   "metadata": {},
   "source": [
    "* Positive Review:"
   ]
  },
  {
   "cell_type": "code",
   "execution_count": 13,
   "metadata": {},
   "outputs": [
    {
     "name": "stdout",
     "output_type": "stream",
     "text": [
      "User post: @techcorp your app is amazing! The new design is perfect\n"
     ]
    },
    {
     "data": {
      "text/plain": [
       "'{\\n    \"product\": \"app\",\\n  \"sentiment\": \"positive\",\\n  \"needs_response\": true,\\n  \"response\": \"Thank you so much for your kind words! We\\'re thrilled to hear you love the new design. Your feedback motivates us to keep improving!\",\\n  \"support_ticket_description\": null\\n}'"
      ]
     },
     "execution_count": 13,
     "metadata": {},
     "output_type": "execute_result"
    }
   ],
   "source": [
    "print(\"User post:\", mentions[0])\n",
    "processed_mention = analyze_mention(mentions[0])\n",
    "processed_mention"
   ]
  },
  {
   "cell_type": "code",
   "execution_count": 14,
   "metadata": {},
   "outputs": [
    {
     "name": "stdout",
     "output_type": "stream",
     "text": [
      "User post: @techcorp your app is amazing! The new design is perfect\n",
      "\n",
      "Structured Output:\n",
      " {\n",
      "    \"product\": \"app\",\n",
      "  \"sentiment\": \"positive\",\n",
      "  \"needs_response\": true,\n",
      "  \"response\": \"Thank you so much for your kind words! We're thrilled to hear you love the new design. Your feedback motivates us to keep improving!\",\n",
      "  \"support_ticket_description\": null\n",
      "}\n"
     ]
    }
   ],
   "source": [
    "print(\"User post:\", mentions[0])\n",
    "print(\"\\nStructured Output:\\n\", processed_mention)"
   ]
  },
  {
   "cell_type": "code",
   "execution_count": 15,
   "metadata": {},
   "outputs": [
    {
     "name": "stdout",
     "output_type": "stream",
     "text": [
      "User post: @techcorp your app is amazing! The new design is perfect\n"
     ]
    },
    {
     "data": {
      "text/plain": [
       "'{\\n    \"product\": \"app\",\\n  \"sentiment\": \"positive\",\\n  \"needs_response\": true,\\n  \"response\": \"Glad you like it, but don\\'t get too excited, it\\'s just an app.\",\\n  \"support_ticket_description\": null\\n}'"
      ]
     },
     "execution_count": 15,
     "metadata": {},
     "output_type": "execute_result"
    }
   ],
   "source": [
    "print(\"User post:\", mentions[0])\n",
    "rude_mention = analyze_mention(mentions[0], personality=\"rude\")\n",
    "rude_mention"
   ]
  },
  {
   "cell_type": "code",
   "execution_count": 16,
   "metadata": {},
   "outputs": [
    {
     "name": "stdout",
     "output_type": "stream",
     "text": [
      "User post: @techcorp your app is amazing! The new design is perfect\n",
      "\n",
      "Structured Output:\n",
      " {\n",
      "    \"product\": \"app\",\n",
      "  \"sentiment\": \"positive\",\n",
      "  \"needs_response\": true,\n",
      "  \"response\": \"Glad you like it, but don't get too excited, it's just an app.\",\n",
      "  \"support_ticket_description\": null\n",
      "}\n"
     ]
    }
   ],
   "source": [
    "print(\"User post:\", mentions[0])\n",
    "print(\"\\nStructured Output:\\n\", rude_mention)"
   ]
  },
  {
   "cell_type": "markdown",
   "metadata": {},
   "source": [
    "* Negative Review:"
   ]
  },
  {
   "cell_type": "code",
   "execution_count": 17,
   "metadata": {},
   "outputs": [
    {
     "name": "stdout",
     "output_type": "stream",
     "text": [
      "User post: @techcorp website is down again, please fix!\n"
     ]
    },
    {
     "data": {
      "text/plain": [
       "'{\\n    \"product\": \"website\",\\n  \"sentiment\": \"negative\",\\n  \"needs_response\": false,\\n  \"response\": null,\\n  \"support_ticket_description\": \"Website reported down\"\\n}'"
      ]
     },
     "execution_count": 17,
     "metadata": {},
     "output_type": "execute_result"
    }
   ],
   "source": [
    "print(\"User post:\", mentions[1])\n",
    "processed_mention = analyze_mention(mentions[1])\n",
    "processed_mention"
   ]
  },
  {
   "cell_type": "code",
   "execution_count": 18,
   "metadata": {},
   "outputs": [
    {
     "name": "stdout",
     "output_type": "stream",
     "text": [
      "User post: @techcorp website is down again, please fix!\n",
      "\n",
      "Structured Output:\n",
      " {\n",
      "    \"product\": \"website\",\n",
      "  \"sentiment\": \"negative\",\n",
      "  \"needs_response\": false,\n",
      "  \"response\": null,\n",
      "  \"support_ticket_description\": \"Website reported down\"\n",
      "}\n"
     ]
    }
   ],
   "source": [
    "print(\"User post:\", mentions[1])\n",
    "print(\"\\nStructured Output:\\n\", processed_mention)"
   ]
  },
  {
   "cell_type": "markdown",
   "metadata": {},
   "source": [
    "* Neutral Review: (Not related to any product so avoid)"
   ]
  },
  {
   "cell_type": "code",
   "execution_count": 19,
   "metadata": {},
   "outputs": [
    {
     "name": "stdout",
     "output_type": "stream",
     "text": [
      "User post: hey @techcorp you're so evil\n"
     ]
    },
    {
     "data": {
      "text/plain": [
       "'{\\n    \"product\": \"not_applicable\",\\n  \"sentiment\": \"negative\",\\n  \"needs_response\": false,\\n  \"response\": null,\\n  \"support_ticket_description\": null\\n}'"
      ]
     },
     "execution_count": 19,
     "metadata": {},
     "output_type": "execute_result"
    }
   ],
   "source": [
    "print(\"User post:\", mentions[2])\n",
    "processed_mention = analyze_mention(mentions[2])\n",
    "processed_mention"
   ]
  },
  {
   "cell_type": "code",
   "execution_count": 20,
   "metadata": {},
   "outputs": [
    {
     "name": "stdout",
     "output_type": "stream",
     "text": [
      "User post: hey @techcorp you're so evil\n",
      "\n",
      "Structured Output:\n",
      " {\n",
      "    \"product\": \"not_applicable\",\n",
      "  \"sentiment\": \"negative\",\n",
      "  \"needs_response\": false,\n",
      "  \"response\": null,\n",
      "  \"support_ticket_description\": null\n",
      "}\n"
     ]
    }
   ],
   "source": [
    "print(\"User post:\", mentions[2])\n",
    "print(\"\\nStructured Output:\\n\", processed_mention)"
   ]
  },
  {
   "cell_type": "markdown",
   "metadata": {},
   "source": [
    "### Social Media Mention Generator:"
   ]
  },
  {
   "cell_type": "markdown",
   "metadata": {},
   "source": [
    "* We have a function below that generates the social media mentions and we then pass it on to our \"Analyze Mention\" function."
   ]
  },
  {
   "cell_type": "code",
   "execution_count": 21,
   "metadata": {},
   "outputs": [
    {
     "data": {
      "text/plain": [
       "'{\\n    \"message\": \"Just used the new feature on your app and I\\'m loving it! The updated UI is so smooth and easy to navigate. Keep up the great work, @techcorp!\"\\n}'"
      ]
     },
     "execution_count": 21,
     "metadata": {},
     "output_type": "execute_result"
    }
   ],
   "source": [
    "class UserPost(BaseModel):\n",
    "    message: str\n",
    "\n",
    "def make_post(output_class):\n",
    "    completion = client.chat.completions.create(\n",
    "        model=\"meta-llama/llama-4-scout-17b-16e-instruct\",\n",
    "        messages=[\n",
    "            {\"role\": \"system\", \"content\": f\"\"\"\n",
    "                You are a customer of Tech Corp (@techcorp), a company\n",
    "                that provides an app and a website. Create a small \n",
    "                microblog-style post to them that sends some kind of \n",
    "                feedback, positive or negative in Below JSON schema:\n",
    "                {UserPost.model_json_schema()}\n",
    "            \"\"\"},\n",
    "            {\"role\": \"user\", \"content\": \"Please write a post.\"},\n",
    "        ],\n",
    "        response_format={\"type\": \"json_object\"},\n",
    "    )\n",
    "    return completion.choices[0].message.content\n",
    "\n",
    "new_post = make_post(UserPost)\n",
    "new_post"
   ]
  },
  {
   "cell_type": "code",
   "execution_count": null,
   "metadata": {},
   "outputs": [
    {
     "name": "stdout",
     "output_type": "stream",
     "text": [
      "Just used the new feature on your app and I'm loving it! The updated UI is so smooth and easy to navigate. Keep up the great work, @techcorp!\n"
     ]
    }
   ],
   "source": [
    "parsed_post = UserPost.model_validate_json(new_post)\n",
    "print(parsed_post.message)"
   ]
  },
  {
   "cell_type": "code",
   "execution_count": 27,
   "metadata": {},
   "outputs": [],
   "source": [
    "processed_mention = analyze_mention(parsed_post.message)"
   ]
  },
  {
   "cell_type": "code",
   "execution_count": 28,
   "metadata": {},
   "outputs": [
    {
     "name": "stdout",
     "output_type": "stream",
     "text": [
      "User post: message=\"Just used the new feature on your app and I'm loving it! The updated UI is so smooth and easy to navigate. Keep up the great work, @techcorp!\"\n",
      "\n",
      "Structured Output:\n",
      " {\n",
      "    \"product\": \"app\",\n",
      "  \"sentiment\": \"positive\",\n",
      "  \"needs_response\": true,\n",
      "  \"response\": \"Thank you so much for your kind words about our new feature! We're thrilled to hear that you're enjoying the updated UI. Your feedback motivates us to keep improving!\",\n",
      "  \"support_ticket_description\": null\n",
      "}\n"
     ]
    }
   ],
   "source": [
    "print(\"User post:\", parsed_post)\n",
    "print(\"\\nStructured Output:\\n\", processed_mention)"
   ]
  },
  {
   "cell_type": "markdown",
   "metadata": {},
   "source": [
    "* Create another post:"
   ]
  },
  {
   "cell_type": "code",
   "execution_count": 43,
   "metadata": {},
   "outputs": [
    {
     "data": {
      "text/plain": [
       "'{\\n    \"user_mood\": \"bad\",\\n  \"product\": \"app\",\\n  \"sentiment\": \"negative\",\\n  \"internal_monologue\": [\\n    \"Why did they do this?\",\\n    \"This is really frustrating\"\\n  ],\\n  \"message\": \"@techcorp I\\'m having trouble with your app\\'s login feature. It keeps crashing when I try to sign in. Please fix this ASAP!\"\\n}'"
      ]
     },
     "execution_count": 43,
     "metadata": {},
     "output_type": "execute_result"
    }
   ],
   "source": [
    "class UserPostWithExtras(BaseModel):\n",
    "    user_mood: Literal[\"awful\", \"bad\", \"evil\"]\n",
    "    product: Literal['app', 'website', 'not_applicable']\n",
    "    sentiment: Literal['positive', 'negative', 'neutral']\n",
    "    internal_monologue: List[str]\n",
    "    message: str\n",
    "\n",
    "def make_post(output_class):\n",
    "    completion = client.chat.completions.create(\n",
    "        model=\"meta-llama/llama-4-scout-17b-16e-instruct\",\n",
    "        messages=[\n",
    "            {\"role\": \"system\", \"content\": f\"\"\"\n",
    "                You are a customer of Tech Corp (@techcorp), a company\n",
    "                that provides an app and a website. Create a small \n",
    "                microblog-style post to them that sends some kind of \n",
    "                feedback, positive or negative in Below JSON schema:\n",
    "                {UserPostWithExtras.model_json_schema()}\n",
    "            \"\"\"},\n",
    "            {\"role\": \"user\", \"content\": \"Please write a post.\"},\n",
    "        ],\n",
    "        response_format={\"type\": \"json_object\"},\n",
    "    )\n",
    "    return completion.choices[0].message.content\n",
    "\n",
    "new_post = make_post(UserPostWithExtras)\n",
    "new_post"
   ]
  },
  {
   "cell_type": "code",
   "execution_count": 44,
   "metadata": {},
   "outputs": [
    {
     "name": "stdout",
     "output_type": "stream",
     "text": [
      "@techcorp I'm having trouble with your app's login feature. It keeps crashing when I try to sign in. Please fix this ASAP!\n"
     ]
    }
   ],
   "source": [
    "parsed_post = UserPost.model_validate_json(new_post)\n",
    "print(parsed_post.message)"
   ]
  },
  {
   "cell_type": "code",
   "execution_count": 45,
   "metadata": {},
   "outputs": [
    {
     "name": "stdout",
     "output_type": "stream",
     "text": [
      "User post: message=\"@techcorp I'm having trouble with your app's login feature. It keeps crashing when I try to sign in. Please fix this ASAP!\"\n",
      "\n",
      "Structured Output:\n",
      " {\n",
      "    \"product\": \"app\",\n",
      "  \"sentiment\": \"negative\",\n",
      "  \"needs_response\": true,\n",
      "  \"response\": \"Sorry to hear that you're experiencing issues with our app's login feature. Can you please try restarting your app and see if that resolves the issue? If not, please DM us with more details so we can assist you further.\",\n",
      "  \"support_ticket_description\": \"User reporting login feature crash\"\n",
      "}\n"
     ]
    }
   ],
   "source": [
    "processed_mention = analyze_mention(parsed_post.message)\n",
    "print(\"User post:\", parsed_post)\n",
    "print(\"\\nStructured Output:\\n\", processed_mention)"
   ]
  },
  {
   "cell_type": "markdown",
   "metadata": {},
   "source": [
    "### Programming with our mentions:"
   ]
  },
  {
   "cell_type": "code",
   "execution_count": 50,
   "metadata": {},
   "outputs": [],
   "source": [
    "from groq import Groq\n",
    "client = Groq()\n",
    "def analyze_mention(\n",
    "    mention: str, \n",
    "    personality: str = \"friendly\"\n",
    ") -> Mention:\n",
    "    completion = client.chat.completions.create(\n",
    "        model=\"meta-llama/llama-4-scout-17b-16e-instruct\",\n",
    "        messages=[\n",
    "            {\"role\": \"system\", \"content\": f\"\"\"\n",
    "                Extract structured information from \n",
    "                social media mentions about our products.\n",
    "             \n",
    "                Return JSON matching this schema:\n",
    "                {Mention.model_json_schema()}\n",
    "\n",
    "                Provide\n",
    "                - The product mentioned (website, app, not applicable)\n",
    "                - The mention sentiment (positive, negative, neutral)\n",
    "                - Whether to respond (true/false). Don't respond to \n",
    "                  inflammatory messages or bait.\n",
    "                - It's okay to form appropriate response to the positive feedback or compliments.\n",
    "                - A customized response to send to the user if we need \n",
    "                  to respond.\n",
    "                - An optional support ticket description to create.\n",
    "\n",
    "                Your personality is {personality}.\n",
    "            \"\"\"},\n",
    "            {\"role\": \"user\", \"content\": mention}\n",
    "        ],\n",
    "        response_format={\"type\": \"json_object\"},\n",
    "    )\n",
    "    return Mention.model_validate_json(completion.choices[0].message.content)  # ✅ returns a Mention object"
   ]
  },
  {
   "cell_type": "code",
   "execution_count": 51,
   "metadata": {},
   "outputs": [
    {
     "name": "stdout",
     "output_type": "stream",
     "text": [
      "Responding to positive app feedback\n",
      "  User: @techcorp your app is amazing! The new design is perfect\n",
      "  Response: Thank you so much! We're thrilled you love the new design. Your feedback means the world to us!\n",
      "\n",
      "Not responding to negative website post\n",
      "  User: @techcorp website is down again, please fix!\n",
      "  Adding support ticket: Website reported down by user\n",
      "\n",
      "Not responding to negative not_applicable post\n",
      "  User: hey @techcorp you're so evil\n",
      "\n"
     ]
    }
   ],
   "source": [
    "from helpers import print_mention\n",
    "\n",
    "# Loop through posts that tagged us and store the results in a list\n",
    "rows = []\n",
    "for mention in mentions:\n",
    "    # Call the LLM to get a Mention object we can program with\n",
    "    processed_mention = analyze_mention(mention)\n",
    "\n",
    "    # Print out some information\n",
    "    print_mention(processed_mention, mention)\n",
    "    \n",
    "    # Convert our processed data to a dictionary\n",
    "    # using Pydantic tools\n",
    "    processed_dict = processed_mention.model_dump()\n",
    "    \n",
    "    # Store the original message in the dataframe row\n",
    "    processed_dict['mention'] = mention\n",
    "    rows.append(processed_dict)\n",
    "    \n",
    "    print(\"\") # Add separator to make it easier to read"
   ]
  },
  {
   "cell_type": "markdown",
   "metadata": {},
   "source": [
    "* Once we have structured output, we can turn them into any format, see below we are loading them into dataframe."
   ]
  },
  {
   "cell_type": "code",
   "execution_count": 52,
   "metadata": {},
   "outputs": [
    {
     "data": {
      "text/html": [
       "<div>\n",
       "<style scoped>\n",
       "    .dataframe tbody tr th:only-of-type {\n",
       "        vertical-align: middle;\n",
       "    }\n",
       "\n",
       "    .dataframe tbody tr th {\n",
       "        vertical-align: top;\n",
       "    }\n",
       "\n",
       "    .dataframe thead th {\n",
       "        text-align: right;\n",
       "    }\n",
       "</style>\n",
       "<table border=\"1\" class=\"dataframe\">\n",
       "  <thead>\n",
       "    <tr style=\"text-align: right;\">\n",
       "      <th></th>\n",
       "      <th>product</th>\n",
       "      <th>sentiment</th>\n",
       "      <th>needs_response</th>\n",
       "      <th>response</th>\n",
       "      <th>support_ticket_description</th>\n",
       "      <th>mention</th>\n",
       "    </tr>\n",
       "  </thead>\n",
       "  <tbody>\n",
       "    <tr>\n",
       "      <th>0</th>\n",
       "      <td>app</td>\n",
       "      <td>positive</td>\n",
       "      <td>True</td>\n",
       "      <td>Thank you so much! We're thrilled you love the...</td>\n",
       "      <td>None</td>\n",
       "      <td>@techcorp your app is amazing! The new design ...</td>\n",
       "    </tr>\n",
       "    <tr>\n",
       "      <th>1</th>\n",
       "      <td>website</td>\n",
       "      <td>negative</td>\n",
       "      <td>False</td>\n",
       "      <td>None</td>\n",
       "      <td>Website reported down by user</td>\n",
       "      <td>@techcorp website is down again, please fix!</td>\n",
       "    </tr>\n",
       "    <tr>\n",
       "      <th>2</th>\n",
       "      <td>not_applicable</td>\n",
       "      <td>negative</td>\n",
       "      <td>False</td>\n",
       "      <td>None</td>\n",
       "      <td>None</td>\n",
       "      <td>hey @techcorp you're so evil</td>\n",
       "    </tr>\n",
       "  </tbody>\n",
       "</table>\n",
       "</div>"
      ],
      "text/plain": [
       "          product sentiment  needs_response  \\\n",
       "0             app  positive            True   \n",
       "1         website  negative           False   \n",
       "2  not_applicable  negative           False   \n",
       "\n",
       "                                            response  \\\n",
       "0  Thank you so much! We're thrilled you love the...   \n",
       "1                                               None   \n",
       "2                                               None   \n",
       "\n",
       "      support_ticket_description  \\\n",
       "0                           None   \n",
       "1  Website reported down by user   \n",
       "2                           None   \n",
       "\n",
       "                                             mention  \n",
       "0  @techcorp your app is amazing! The new design ...  \n",
       "1       @techcorp website is down again, please fix!  \n",
       "2                       hey @techcorp you're so evil  "
      ]
     },
     "execution_count": 52,
     "metadata": {},
     "output_type": "execute_result"
    }
   ],
   "source": [
    "import pandas as pd\n",
    "\n",
    "df = pd.DataFrame(rows)\n",
    "df"
   ]
  }
 ],
 "metadata": {
  "kernelspec": {
   "display_name": "Python 3",
   "language": "python",
   "name": "python3"
  },
  "language_info": {
   "codemirror_mode": {
    "name": "ipython",
    "version": 3
   },
   "file_extension": ".py",
   "mimetype": "text/x-python",
   "name": "python",
   "nbconvert_exporter": "python",
   "pygments_lexer": "ipython3",
   "version": "3.10.16"
  }
 },
 "nbformat": 4,
 "nbformat_minor": 2
}

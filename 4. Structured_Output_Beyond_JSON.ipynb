{
 "cells": [
  {
   "cell_type": "code",
   "execution_count": 1,
   "id": "b449f4da",
   "metadata": {},
   "outputs": [],
   "source": [
    "import warnings\n",
    "warnings.filterwarnings('ignore')"
   ]
  },
  {
   "cell_type": "code",
   "execution_count": 2,
   "id": "096ae8b1",
   "metadata": {},
   "outputs": [],
   "source": [
    "from helpers import template\n",
    "import outlines\n",
    "from outlines.samplers import greedy"
   ]
  },
  {
   "cell_type": "code",
   "execution_count": 3,
   "id": "7fae7220",
   "metadata": {},
   "outputs": [],
   "source": [
    "model_name = \"HuggingFaceTB/SmolLM2-135M-Instruct\"\n",
    "model = outlines.models.transformers(model_name)"
   ]
  },
  {
   "cell_type": "markdown",
   "id": "119de07b",
   "metadata": {},
   "source": [
    "### First Structure > Choice:"
   ]
  },
  {
   "cell_type": "markdown",
   "id": "d37c10bf",
   "metadata": {},
   "source": [
    "* When we want to label something with a finite number of possible labels, below is our prompt!"
   ]
  },
  {
   "cell_type": "code",
   "execution_count": 8,
   "id": "58a86d9e",
   "metadata": {},
   "outputs": [],
   "source": [
    "prompt = template(\"\"\"\n",
    "Look at this restaurant review and classify its sentiment. \n",
    "Respond only with 'positive' or 'negative':\n",
    "\n",
    "Review: The pizza a the was delicious, and the service was excellent.\n",
    "\"\"\")"
   ]
  },
  {
   "cell_type": "code",
   "execution_count": 9,
   "id": "264b2e54",
   "metadata": {},
   "outputs": [],
   "source": [
    "chooser = outlines.generate.choice(\n",
    "    model,\n",
    "    ['positive', 'negative'],\n",
    "    sampler=greedy()\n",
    ")"
   ]
  },
  {
   "cell_type": "code",
   "execution_count": 10,
   "id": "5c4aac0c",
   "metadata": {},
   "outputs": [
    {
     "data": {
      "text/plain": [
       "'positive'"
      ]
     },
     "execution_count": 10,
     "metadata": {},
     "output_type": "execute_result"
    }
   ],
   "source": [
    "chooser(prompt)"
   ]
  },
  {
   "cell_type": "markdown",
   "id": "33bf8a53",
   "metadata": {},
   "source": [
    "### Second Structure > Phone Number:"
   ]
  },
  {
   "cell_type": "markdown",
   "id": "ccdeaf24",
   "metadata": {},
   "source": [
    "* Here we want to extract phone number in specific format, "
   ]
  },
  {
   "cell_type": "code",
   "execution_count": 11,
   "id": "7eeb5043",
   "metadata": {},
   "outputs": [],
   "source": [
    "phone_prompt = template(\"\"\"\n",
    "Extract the phone number from the example,\n",
    "please use the format: (XXX) XXX-XXXX\n",
    "\n",
    "206-555-1234\n",
    "\n",
    "\"\"\")"
   ]
  },
  {
   "cell_type": "code",
   "execution_count": 12,
   "id": "2a70b7b1",
   "metadata": {},
   "outputs": [],
   "source": [
    "phone_regex = r'\\([0-9]{3}\\) [0-9]{3}-[0-9]{4}'"
   ]
  },
  {
   "cell_type": "code",
   "execution_count": 13,
   "id": "3c391a9a",
   "metadata": {},
   "outputs": [],
   "source": [
    "phone_generator = outlines.generate.regex(\n",
    "    model, \n",
    "    phone_regex,\n",
    "    sampler=greedy()\n",
    ")"
   ]
  },
  {
   "cell_type": "code",
   "execution_count": 14,
   "id": "714b9ed9",
   "metadata": {},
   "outputs": [
    {
     "data": {
      "text/plain": [
       "'(206) 555-1234'"
      ]
     },
     "execution_count": 14,
     "metadata": {},
     "output_type": "execute_result"
    }
   ],
   "source": [
    "phone_generator(phone_prompt)"
   ]
  },
  {
   "cell_type": "markdown",
   "id": "ce5d0f10",
   "metadata": {},
   "source": [
    "### Third Structure > Email Address:"
   ]
  },
  {
   "cell_type": "code",
   "execution_count": 15,
   "id": "1e3b9acd",
   "metadata": {},
   "outputs": [],
   "source": [
    "email_regex = r'[a-zA-Z0-9]{3,10}@[a-z]{4,20}\\.com'"
   ]
  },
  {
   "cell_type": "code",
   "execution_count": 16,
   "id": "0fd7d7c5",
   "metadata": {},
   "outputs": [],
   "source": [
    "email_prompt = template(\"Give me an email address for someone at amazon\")"
   ]
  },
  {
   "cell_type": "code",
   "execution_count": 17,
   "id": "e3e3448b",
   "metadata": {},
   "outputs": [],
   "source": [
    "email_generator = outlines.generate.regex(\n",
    "    model,\n",
    "    email_regex,\n",
    "    sampler=greedy())"
   ]
  },
  {
   "cell_type": "code",
   "execution_count": 18,
   "id": "59e7e6ee",
   "metadata": {},
   "outputs": [
    {
     "data": {
      "text/plain": [
       "'Icyblue@amazon.com'"
      ]
     },
     "execution_count": 18,
     "metadata": {},
     "output_type": "execute_result"
    }
   ],
   "source": [
    "email_generator(email_prompt)"
   ]
  },
  {
   "cell_type": "markdown",
   "id": "0f768b67",
   "metadata": {},
   "source": [
    "### Forth Structure > HTML Image Tag:"
   ]
  },
  {
   "cell_type": "markdown",
   "id": "eadbe9a7",
   "metadata": {},
   "source": [
    "* Here using regex to generate an HTML image tag based on the file name we provide to it."
   ]
  },
  {
   "cell_type": "code",
   "execution_count": 19,
   "id": "d8014b31",
   "metadata": {},
   "outputs": [],
   "source": [
    "example = '<img src=\"large_dinosaur.png\" alt=\"Image of Large Dinosaur\">'"
   ]
  },
  {
   "cell_type": "code",
   "execution_count": 20,
   "id": "8e2f2d81",
   "metadata": {},
   "outputs": [],
   "source": [
    "img_tag_regex = r'<img src=\"\\w+\\.(png|jpg|gif)\" alt=\"[\\w ]+\">'"
   ]
  },
  {
   "cell_type": "code",
   "execution_count": 21,
   "id": "94fc0b6f",
   "metadata": {},
   "outputs": [
    {
     "name": "stdout",
     "output_type": "stream",
     "text": [
      "<img src=\"large_dinosaur.png\" alt=\"Image of Large Dinosaur\">\n"
     ]
    }
   ],
   "source": [
    "import re\n",
    "\n",
    "print(re.search(img_tag_regex, example)[0])"
   ]
  },
  {
   "cell_type": "code",
   "execution_count": 22,
   "id": "17eb9fdd",
   "metadata": {},
   "outputs": [],
   "source": [
    "img_tag_generator = outlines.generate.regex(model, img_tag_regex)"
   ]
  },
  {
   "cell_type": "code",
   "execution_count": 23,
   "id": "0af41d0e",
   "metadata": {},
   "outputs": [],
   "source": [
    "img_tag = img_tag_generator(\n",
    "    template(\n",
    "        \"\"\"Generate a basic html image tag for the file 'big_fish.png', \n",
    "        make sure to include an alt tag\"\"\"\n",
    "    ))"
   ]
  },
  {
   "cell_type": "code",
   "execution_count": 24,
   "id": "097f1fc9",
   "metadata": {},
   "outputs": [
    {
     "name": "stdout",
     "output_type": "stream",
     "text": [
      "<img src=\"big_fish.png\" alt=\"Big Fish\">\n"
     ]
    }
   ],
   "source": [
    "print(img_tag)"
   ]
  },
  {
   "cell_type": "code",
   "execution_count": 25,
   "id": "1c1d1c2e",
   "metadata": {},
   "outputs": [
    {
     "data": {
      "text/html": [
       "<img src=\"big_fish.png\" alt=\"Big Fish\">"
      ],
      "text/plain": [
       "<IPython.core.display.HTML object>"
      ]
     },
     "metadata": {},
     "output_type": "display_data"
    }
   ],
   "source": [
    "from IPython.display import HTML, display\n",
    "\n",
    "display(HTML(img_tag))"
   ]
  },
  {
   "cell_type": "markdown",
   "id": "cbe02a50",
   "metadata": {},
   "source": [
    "### Fifth Structure > Tic-Tac-Toe:"
   ]
  },
  {
   "cell_type": "code",
   "execution_count": 26,
   "id": "ad41edb1",
   "metadata": {},
   "outputs": [],
   "source": [
    "ttt_regex = r'[XO ]\\|[XO ]\\|[XO ]\\n-\\+-\\+-\\n[XO ]\\|[XO ]\\|[XO ]\\n-\\+-\\+-\\n[XO ]\\|[XO ]\\|[XO ]'"
   ]
  },
  {
   "cell_type": "code",
   "execution_count": 27,
   "id": "0d96fc12",
   "metadata": {},
   "outputs": [],
   "source": [
    "ttt_generator = outlines.generate.regex(model, ttt_regex, sampler=greedy())"
   ]
  },
  {
   "cell_type": "code",
   "execution_count": 28,
   "id": "09f76675",
   "metadata": {},
   "outputs": [],
   "source": [
    "ttt_out = ttt_generator(\"\"\"\n",
    "We'll be representing an ASCII tic-tac-toe board like this:\n",
    "```\n",
    " | | \n",
    "-+-+-\n",
    " | | \n",
    "-+-+-\n",
    " | | \n",
    "```\n",
    "With X,O or a blank space being valid entries.\n",
    "Here is an example game that is currently in progress:\n",
    "\"\"\"\n",
    ")"
   ]
  },
  {
   "cell_type": "code",
   "execution_count": 29,
   "id": "c2c765f1",
   "metadata": {},
   "outputs": [
    {
     "name": "stdout",
     "output_type": "stream",
     "text": [
      "X|O|O\n",
      "-+-+-\n",
      " | | \n",
      "-+-+-\n",
      " | | \n"
     ]
    }
   ],
   "source": [
    "print(ttt_out)"
   ]
  },
  {
   "cell_type": "markdown",
   "id": "774e8e04",
   "metadata": {},
   "source": [
    "### Sixth Structure > CSV:"
   ]
  },
  {
   "cell_type": "markdown",
   "id": "55f7c71e",
   "metadata": {},
   "source": [
    "* Generating CSV content straight from the model and dump it into a pandas dataframe. "
   ]
  },
  {
   "cell_type": "code",
   "execution_count": 30,
   "id": "c25643b0",
   "metadata": {},
   "outputs": [],
   "source": [
    "csv_regex = r'Code,Amount,Cost\\n([A-Z]{3},[1]*[0-9],1]*[0-9]\\.[0-9]{2}\\n){1,3}'"
   ]
  },
  {
   "cell_type": "code",
   "execution_count": 31,
   "id": "daf281f7",
   "metadata": {},
   "outputs": [],
   "source": [
    "csv_generator = outlines.generate.regex(model, csv_regex)"
   ]
  },
  {
   "cell_type": "code",
   "execution_count": 32,
   "id": "49730249",
   "metadata": {},
   "outputs": [],
   "source": [
    "csv_out = csv_generator(\n",
    "    template(\n",
    "        \"\"\"Create a CSV file for 2-3 store inventory items.\n",
    "           Include a column 'Code', 'Amount', and 'Cost'.\n",
    "        \"\"\")\n",
    ")"
   ]
  },
  {
   "cell_type": "code",
   "execution_count": 33,
   "id": "4521fbfd",
   "metadata": {},
   "outputs": [
    {
     "data": {
      "text/html": [
       "<div>\n",
       "<style scoped>\n",
       "    .dataframe tbody tr th:only-of-type {\n",
       "        vertical-align: middle;\n",
       "    }\n",
       "\n",
       "    .dataframe tbody tr th {\n",
       "        vertical-align: top;\n",
       "    }\n",
       "\n",
       "    .dataframe thead th {\n",
       "        text-align: right;\n",
       "    }\n",
       "</style>\n",
       "<table border=\"1\" class=\"dataframe\">\n",
       "  <thead>\n",
       "    <tr style=\"text-align: right;\">\n",
       "      <th></th>\n",
       "      <th>Code</th>\n",
       "      <th>Amount</th>\n",
       "      <th>Cost</th>\n",
       "    </tr>\n",
       "  </thead>\n",
       "  <tbody>\n",
       "    <tr>\n",
       "      <th>0</th>\n",
       "      <td>ABC</td>\n",
       "      <td>12</td>\n",
       "      <td>15.0</td>\n",
       "    </tr>\n",
       "    <tr>\n",
       "      <th>1</th>\n",
       "      <td>ABB</td>\n",
       "      <td>2</td>\n",
       "      <td>10.5</td>\n",
       "    </tr>\n",
       "    <tr>\n",
       "      <th>2</th>\n",
       "      <td>ACB</td>\n",
       "      <td>3</td>\n",
       "      <td>12.0</td>\n",
       "    </tr>\n",
       "  </tbody>\n",
       "</table>\n",
       "</div>"
      ],
      "text/plain": [
       "  Code  Amount  Cost\n",
       "0  ABC      12  15.0\n",
       "1  ABB       2  10.5\n",
       "2  ACB       3  12.0"
      ]
     },
     "execution_count": 33,
     "metadata": {},
     "output_type": "execute_result"
    }
   ],
   "source": [
    "from io import StringIO\n",
    "import pandas as pd\n",
    "pd.read_csv(StringIO(csv_out))"
   ]
  },
  {
   "cell_type": "markdown",
   "id": "5171c027",
   "metadata": {},
   "source": [
    "### Seventh Structure > GSM8K and Making REGEX easier:"
   ]
  },
  {
   "cell_type": "markdown",
   "id": "97ea0d79",
   "metadata": {},
   "source": [
    "* Implementing a structure for GSM8K, which is a common LLM evaluation benchmark that uses grade school questions to see if LLMs can answer them correctly."
   ]
  },
  {
   "cell_type": "code",
   "execution_count": 34,
   "id": "1533f9aa",
   "metadata": {},
   "outputs": [
    {
     "data": {
      "text/plain": [
       "'Reasoning:\\\\ (([A-Z].*\\\\s*[.!?])){1,2}\\\\\\nSo\\\\ the\\\\ answer\\\\ is:\\\\ ((\\\\d)){1,4}'"
      ]
     },
     "execution_count": 34,
     "metadata": {},
     "output_type": "execute_result"
    }
   ],
   "source": [
    "from outlines.types import sentence, digit\n",
    "from outlines.types.dsl import to_regex\n",
    "\n",
    "# Write between 1-3 Sentences\n",
    "reasoning = \"Reasoning: \" + sentence.repeat(1,2)\n",
    "# Answer in 1-4 digits\n",
    "answer = \"So the answer is: \" + digit.repeat(1,4)\n",
    "\n",
    "to_regex(reasoning + \"\\n\" + answer)"
   ]
  },
  {
   "cell_type": "code",
   "execution_count": 35,
   "id": "5aab90b0",
   "metadata": {},
   "outputs": [],
   "source": [
    "gsm8k_generator = outlines.generate.regex(\n",
    "    model, \n",
    "    to_regex(reasoning + \"\\n\" + answer),\n",
    "    sampler=greedy()\n",
    ")"
   ]
  },
  {
   "cell_type": "code",
   "execution_count": 36,
   "id": "ec540b2a",
   "metadata": {},
   "outputs": [],
   "source": [
    "question = \"\"\"\n",
    "Sally has 5 apples, then received 2 more, how many apples does Sally have?\n",
    "\"\"\""
   ]
  },
  {
   "cell_type": "code",
   "execution_count": 37,
   "id": "ec300e6c",
   "metadata": {},
   "outputs": [],
   "source": [
    "question_prompt = template(f\"\"\"\n",
    "Please answer the question and the end using the following format:\n",
    "Example:\n",
    "Question: Tom has 3 cucumbers, Joes gives him 2 more cucumbers, \n",
    "          how many does Tom have?\n",
    "Reasoning: Tom started with 3 cucumbers, then received 2 more. \n",
    "           This means he has 5 cucumbers.\n",
    "So the answer is: 5\n",
    "\n",
    "Here is the question you need to answer:\n",
    "Question: {question}\n",
    "\"\"\")"
   ]
  },
  {
   "cell_type": "code",
   "execution_count": 38,
   "id": "6cd0c62a",
   "metadata": {},
   "outputs": [
    {
     "name": "stdout",
     "output_type": "stream",
     "text": [
      "Reasoning: Sally started with 5 apples, then received 2 more. This means she has 5 + 2 = 7 apples.\n",
      "So the answer is: 7\n"
     ]
    }
   ],
   "source": [
    "result = gsm8k_generator(question_prompt)\n",
    "\n",
    "print(result)"
   ]
  }
 ],
 "metadata": {
  "kernelspec": {
   "display_name": "Python 3",
   "language": "python",
   "name": "python3"
  },
  "language_info": {
   "codemirror_mode": {
    "name": "ipython",
    "version": 3
   },
   "file_extension": ".py",
   "mimetype": "text/x-python",
   "name": "python",
   "nbconvert_exporter": "python",
   "pygments_lexer": "ipython3",
   "version": "3.10.16"
  }
 },
 "nbformat": 4,
 "nbformat_minor": 5
}

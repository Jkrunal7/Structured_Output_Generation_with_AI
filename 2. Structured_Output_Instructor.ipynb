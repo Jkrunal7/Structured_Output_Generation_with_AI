{
 "cells": [
  {
   "cell_type": "markdown",
   "id": "c68a3b49",
   "metadata": {},
   "source": [
    "* Instructor is open source library help us to generate structure output from \"model providers\" that don't support formal structured outputs.\n",
    "\n",
    "* Follows retry based/reprompting based method, if model output doesn't match the required format."
   ]
  },
  {
   "cell_type": "code",
   "execution_count": 143,
   "id": "fd173d72",
   "metadata": {},
   "outputs": [],
   "source": [
    "# Warning control\n",
    "import warnings\n",
    "warnings.filterwarnings('ignore')"
   ]
  },
  {
   "cell_type": "markdown",
   "id": "295a07ca",
   "metadata": {},
   "source": [
    "### Loading Model API Key:"
   ]
  },
  {
   "cell_type": "code",
   "execution_count": 144,
   "id": "d8b51d2a",
   "metadata": {},
   "outputs": [],
   "source": [
    "import requests\n",
    "import os\n",
    "from dotenv import load_dotenv, find_dotenv\n",
    "load_dotenv()\n",
    "groq_api_key=os.environ['GROQ_API_KEY']\n",
    "if not groq_api_key:\n",
    "    raise ValueError(\"GROQ_API_KEY not found in environment variables\")\n",
    "\n",
    "url = \"https://api.groq.com/openai/v1/models\"\n",
    "headers = {\n",
    "    \"Authorization\": f\"Bearer {groq_api_key}\",\n",
    "    \"Content-Type\": \"application/json\"\n",
    "}"
   ]
  },
  {
   "cell_type": "code",
   "execution_count": 145,
   "id": "4ff0011a",
   "metadata": {},
   "outputs": [
    {
     "data": {
      "text/plain": [
       "\"Sup back at ya! What's on your mind?\""
      ]
     },
     "execution_count": 145,
     "metadata": {},
     "output_type": "execute_result"
    }
   ],
   "source": [
    "from groq import Groq\n",
    "client = Groq()\n",
    "chat_completion = client.chat.completions.create(\n",
    "    model=\"meta-llama/llama-4-scout-17b-16e-instruct\",\n",
    "    messages=[{\n",
    "        \"role\": \"user\", \n",
    "        \"content\": 'sup'\n",
    "    }]\n",
    ")\n",
    "\n",
    "chat_completion.choices[0].message.content"
   ]
  },
  {
   "cell_type": "markdown",
   "id": "b62af054",
   "metadata": {},
   "source": [
    "### Adding Instructor:"
   ]
  },
  {
   "cell_type": "code",
   "execution_count": 146,
   "id": "7b81650d",
   "metadata": {},
   "outputs": [],
   "source": [
    "import instructor\n",
    "from instructor import from_openai\n",
    "from openai import OpenAI\n",
    "\n",
    "# Initialize Groq client\n",
    "Groq_client = OpenAI(\n",
    "    base_url=\"https://api.groq.com/openai/v1\",\n",
    "    api_key=os.environ[\"GROQ_API_KEY\"]\n",
    ")\n",
    "\n",
    "# Patch instructor to use JSON mode, NOT tool/function calling\n",
    "#instructor_client = instructor.from_openai(Groq(api_key=groq_api_key))"
   ]
  },
  {
   "cell_type": "code",
   "execution_count": 147,
   "id": "ab73f609",
   "metadata": {},
   "outputs": [
    {
     "data": {
      "text/plain": [
       "\"Sup! What's on your mind? Need help with something or just wanna chat? I'm here to listen!\""
      ]
     },
     "execution_count": 147,
     "metadata": {},
     "output_type": "execute_result"
    }
   ],
   "source": [
    "chat_completion = Groq_client.chat.completions.create(\n",
    "    model=\"meta-llama/llama-4-scout-17b-16e-instruct\",\n",
    "    messages=[{\n",
    "        \"role\": \"user\", \n",
    "        \"content\": 'sup'\n",
    "    }]\n",
    ")\n",
    "\n",
    "chat_completion.choices[0].message.content"
   ]
  },
  {
   "cell_type": "code",
   "execution_count": 148,
   "id": "59b5ee59",
   "metadata": {},
   "outputs": [],
   "source": [
    "instructor_client = instructor.from_openai(Groq_client)"
   ]
  },
  {
   "cell_type": "code",
   "execution_count": 149,
   "id": "303fb0a7",
   "metadata": {},
   "outputs": [],
   "source": [
    "from pydantic import BaseModel\n",
    "\n",
    "class Greeting(BaseModel):\n",
    "    hello: str"
   ]
  },
  {
   "cell_type": "code",
   "execution_count": 150,
   "id": "d2272f09",
   "metadata": {},
   "outputs": [
    {
     "data": {
      "text/plain": [
       "Greeting(hello='hi')"
      ]
     },
     "execution_count": 150,
     "metadata": {},
     "output_type": "execute_result"
    }
   ],
   "source": [
    "response = instructor_client.chat.completions.create(\n",
    "    model=\"meta-llama/llama-4-scout-17b-16e-instruct\",\n",
    "    messages=[{\n",
    "        \"role\": \"user\",\n",
    "        \"content\": \"Say hi in JSON\"\n",
    "    }],\n",
    "    response_model=Greeting,\n",
    ")\n",
    "response\n"
   ]
  },
  {
   "cell_type": "markdown",
   "id": "73bad795",
   "metadata": {},
   "source": [
    "### Defining a calendar event"
   ]
  },
  {
   "cell_type": "markdown",
   "id": "54cd50f8",
   "metadata": {},
   "source": [
    "* Simple calendar event extractor to test instructor out. We want the structured output in the below format."
   ]
  },
  {
   "cell_type": "code",
   "execution_count": 151,
   "id": "29c36d31",
   "metadata": {},
   "outputs": [],
   "source": [
    "from pydantic import Field\n",
    "from datetime import date\n",
    "from typing import List\n",
    "\n",
    "# Person only has a name, but we can easily extend it with other fields\n",
    "class Person(BaseModel):\n",
    "    name: str\n",
    "\n",
    "class CalendarEvent(BaseModel):\n",
    "    name: str\n",
    "    \n",
    "    # not supported by OpenAI. We want a format like 2025-01-30\n",
    "    date: date \n",
    "    participants: List[Person]\n",
    "\n",
    "    address_number: str\n",
    "    street_name: str\n",
    "    city_name: str\n",
    "\n",
    "    # Inline regex patterns not supported by OpenAI restrict state code \n",
    "    # to be two capital letters (OpenAI does not support pattern fields)\n",
    "    state_code: str = Field(pattern=r'[A-Z]{2}')\n",
    "\n",
    "    # Zip code must be five digits\n",
    "    zip_code: str = Field(pattern=r'\\d{5}')"
   ]
  },
  {
   "cell_type": "code",
   "execution_count": 152,
   "id": "4c512930",
   "metadata": {},
   "outputs": [],
   "source": [
    "event_description = \"\"\"\n",
    "Alice and Bob are going to a science fair on Friday, January 2024.\n",
    "The science fair is hosted at the gymnasium of Hazeldale Elementary\n",
    "School at 20080 SW Farmington Road in Beaverton Oregon.\n",
    "\"\"\""
   ]
  },
  {
   "cell_type": "code",
   "execution_count": 153,
   "id": "aa6e549f",
   "metadata": {},
   "outputs": [],
   "source": [
    "def generate(\n",
    "    response_model, \n",
    "    user_prompt, \n",
    "    system_prompt=\"You are a helpful assistant.\",\n",
    "    model=\"meta-llama/llama-4-scout-17b-16e-instruct\",\n",
    "    max_retries=3,\n",
    "):\n",
    "    event = instructor_client.chat.completions.create(\n",
    "        model=model,\n",
    "        messages=[\n",
    "            {\"role\": \"system\", \"content\": system_prompt},\n",
    "            {\"role\": \"user\", \"content\": user_prompt},\n",
    "        ],\n",
    "        response_model=response_model,\n",
    "        max_retries=max_retries\n",
    "    )\n",
    "\n",
    "    return event"
   ]
  },
  {
   "cell_type": "code",
   "execution_count": 154,
   "id": "a95272e8",
   "metadata": {},
   "outputs": [],
   "source": [
    "system_prompt = \"\"\"\n",
    "Make a calendar event. Respond in JSON with\n",
    "the event name, date, list of participants,\n",
    "and the address.\n",
    "\"\"\"\n",
    "\n",
    "user_prompt = 'Event description: ' + event_description\n",
    "\n",
    "event = generate(\n",
    "    CalendarEvent, \n",
    "    user_prompt, \n",
    "    system_prompt=system_prompt\n",
    ")"
   ]
  },
  {
   "cell_type": "code",
   "execution_count": 155,
   "id": "3c0d3d88",
   "metadata": {},
   "outputs": [
    {
     "data": {
      "text/plain": [
       "CalendarEvent(name='Science Fair', date=datetime.date(2024, 1, 5), participants=[Person(name='Alice'), Person(name='Bob')], address_number='20080', street_name='SW Farmington Road', city_name='Beaverton', state_code='OR', zip_code='97003')"
      ]
     },
     "execution_count": 155,
     "metadata": {},
     "output_type": "execute_result"
    }
   ],
   "source": [
    "event"
   ]
  },
  {
   "cell_type": "markdown",
   "id": "63cdc4c4",
   "metadata": {},
   "source": [
    "### Counting Retries:"
   ]
  },
  {
   "cell_type": "code",
   "execution_count": 156,
   "id": "6f7c21ad",
   "metadata": {},
   "outputs": [],
   "source": [
    "from helpers import UsageTracker\n",
    "\n",
    "# Clear any completion response hooks -- prevents \n",
    "# duplicate writes to the usage tracker.\n",
    "instructor_client.clear(\"completion:response\")\n",
    "\n",
    "# Create a new tracker\n",
    "tracker = UsageTracker()\n",
    "\n",
    "# Define a custom instructor hook and update the\n",
    "# tracker when a new completion runs.\n",
    "def log_completion_kwargs(*args, **kwargs):\n",
    "    usage = args[0].usage\n",
    "    tracker.track(usage)\n",
    "\n",
    "# Assign the hook to instructor -- this will make the hook\n",
    "# run each time the server returns a chat completion to us.\n",
    "instructor_client.on(\"completion:response\", log_completion_kwargs)"
   ]
  },
  {
   "cell_type": "code",
   "execution_count": 157,
   "id": "99698c18",
   "metadata": {},
   "outputs": [
    {
     "data": {
      "text/plain": [
       "CalendarEvent(name='Science Fair', date=datetime.date(2024, 1, 5), participants=[Person(name='Alice'), Person(name='Bob')], address_number='20080', street_name='SW Farmington Road', city_name='Beaverton', state_code='OR', zip_code='97006')"
      ]
     },
     "execution_count": 157,
     "metadata": {},
     "output_type": "execute_result"
    }
   ],
   "source": [
    "# Clear the tracker before we run the completion\n",
    "# so we arent' tracking multiple jobs.\n",
    "tracker.clear()\n",
    "\n",
    "event = generate(\n",
    "    CalendarEvent, \n",
    "    user_prompt, \n",
    "    system_prompt=system_prompt,\n",
    "    max_retries=4,\n",
    ")\n",
    "\n",
    "event"
   ]
  },
  {
   "cell_type": "code",
   "execution_count": 158,
   "id": "6cf1ea59",
   "metadata": {},
   "outputs": [
    {
     "name": "stdout",
     "output_type": "stream",
     "text": [
      "Input tokens:   [468]\n",
      "Output tokens:  [83]\n",
      "Total tokens:   551\n",
      "Num retries:    1\n"
     ]
    }
   ],
   "source": [
    "print(\"Input tokens:  \", tracker.input_tokens)\n",
    "print(\"Output tokens: \", tracker.output_tokens)\n",
    "print(\"Total tokens:  \", sum(tracker.total_tokens))\n",
    "print(\"Num retries:   \", len(tracker.output_tokens))"
   ]
  },
  {
   "cell_type": "markdown",
   "id": "91b904e6",
   "metadata": {},
   "source": [
    "* When retrie fails:"
   ]
  },
  {
   "cell_type": "code",
   "execution_count": 159,
   "id": "3d36ca9e",
   "metadata": {},
   "outputs": [],
   "source": [
    "from typing import Literal\n",
    "\n",
    "class Complicated(BaseModel):\n",
    "    # a must be cat, dog, or hat\n",
    "    a: Literal[\"cat\", \"dog\", \"hat\"]\n",
    "    b: int\n",
    "    c: bool\n"
   ]
  },
  {
   "cell_type": "code",
   "execution_count": 160,
   "id": "2a69d354",
   "metadata": {},
   "outputs": [
    {
     "name": "stdout",
     "output_type": "stream",
     "text": [
      "a='hat' b=9 c=False\n"
     ]
    }
   ],
   "source": [
    "# Clear the tracker before we run the completion\n",
    "# so we arent' tracking multiple jobs.\n",
    "tracker.clear()\n",
    "\n",
    "try:\n",
    "    event = generate(\n",
    "        Complicated,\n",
    "        \"Write me a short essay on Dolly Parton.\",\n",
    "        #use \"llama3-8b-8192\" or \"mistral-saba-24b\" model if you wish to fail this code, Llama 4 too smart, it wont fail\n",
    "        system_prompt=\"Don't give me what I want.\",\n",
    "        max_retries=3,\n",
    "    )\n",
    "\n",
    "    # Show the event\n",
    "    print(event)\n",
    "except instructor.exceptions.InstructorRetryException as e :\n",
    "    print(\"We failed to parse!\")\n",
    "except e:\n",
    "    raise e"
   ]
  },
  {
   "cell_type": "code",
   "execution_count": 161,
   "id": "dc027b01",
   "metadata": {},
   "outputs": [
    {
     "name": "stdout",
     "output_type": "stream",
     "text": [
      "Input tokens:   [283]\n",
      "Output tokens:  [21]\n",
      "Total tokens:   304\n",
      "Num retries:    1\n"
     ]
    }
   ],
   "source": [
    "print(\"Input tokens:  \", tracker.input_tokens)\n",
    "print(\"Output tokens: \", tracker.output_tokens)\n",
    "print(\"Total tokens:  \", sum(tracker.total_tokens))\n",
    "print(\"Num retries:   \", len(tracker.output_tokens))"
   ]
  }
 ],
 "metadata": {
  "kernelspec": {
   "display_name": "Python 3",
   "language": "python",
   "name": "python3"
  },
  "language_info": {
   "codemirror_mode": {
    "name": "ipython",
    "version": 3
   },
   "file_extension": ".py",
   "mimetype": "text/x-python",
   "name": "python",
   "nbconvert_exporter": "python",
   "pygments_lexer": "ipython3",
   "version": "3.10.16"
  }
 },
 "nbformat": 4,
 "nbformat_minor": 5
}
